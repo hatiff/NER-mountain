{
 "cells": [
  {
   "cell_type": "markdown",
   "metadata": {},
   "source": [
    "Thanks to ChatGPT, I’ve collected 364 examples for the dataset in the format Token | Label. This includes 150 negative examples with no mountain names, where all tokens are labeled as \"O,\" and 214 positive examples containing mountain names, labeled as \"I-MOU\" and \"B-MOU.\"\n"
   ]
  },
  {
   "cell_type": "markdown",
   "metadata": {},
   "source": [
    "Data from each chat output was stored in a text file. Once the collection was complete, it was converted into a CSV file, where it was then checked for errors and inconsistencies."
   ]
  },
  {
   "cell_type": "markdown",
   "metadata": {},
   "source": [
    "The training dataset should be a CSV file with two columns: \"tokens\" and \"ner_tags,\" with a blank row between sentences. "
   ]
  },
  {
   "cell_type": "markdown",
   "metadata": {},
   "source": [
    "Given the dataset’s relatively small size, training results can vary, as performance is impacted by the randomly generated train, test, and evaluation subsets."
   ]
  }
 ],
 "metadata": {
  "language_info": {
   "name": "python"
  }
 },
 "nbformat": 4,
 "nbformat_minor": 2
}
