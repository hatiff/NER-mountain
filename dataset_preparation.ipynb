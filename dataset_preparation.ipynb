{
 "cells": [
  {
   "cell_type": "markdown",
   "metadata": {},
   "source": [
    "Thanks to ChatGPT, I’ve collected 364 examples for the dataset in the format Token | Label. This includes 150 negative examples with no mountain names, where all tokens are labeled as \"O,\" and 214 positive examples containing mountain names, labeled as \"I-MOU\" and \"B-MOU.\"\n"
   ]
  },
  {
   "cell_type": "code",
   "execution_count": null,
   "metadata": {
    "vscode": {
     "languageId": "plaintext"
    }
   },
   "outputs": [],
   "source": [
    "Data from each chat output was stored in a text file. Once the collection was complete, it was converted into a CSV file, where it was then checked for errors and inconsistencies."
   ]
  }
 ],
 "metadata": {
  "language_info": {
   "name": "python"
  }
 },
 "nbformat": 4,
 "nbformat_minor": 2
}
