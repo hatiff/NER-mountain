{
  "nbformat": 4,
  "nbformat_minor": 0,
  "metadata": {
    "colab": {
      "provenance": [],
      "authorship_tag": "ABX9TyO7P+8REksz+z75xeCrOXPN",
      "include_colab_link": true
    },
    "kernelspec": {
      "name": "python3",
      "display_name": "Python 3"
    },
    "language_info": {
      "name": "python"
    }
  },
  "cells": [
    {
      "cell_type": "markdown",
      "metadata": {
        "id": "view-in-github",
        "colab_type": "text"
      },
      "source": [
        "<a href=\"https://colab.research.google.com/github/hatiff/NER-mountain/blob/main/NER_mountains_demo.ipynb\" target=\"_parent\"><img src=\"https://colab.research.google.com/assets/colab-badge.svg\" alt=\"Open In Colab\"/></a>"
      ]
    },
    {
      "cell_type": "code",
      "execution_count": null,
      "metadata": {
        "colab": {
          "base_uri": "https://localhost:8080/"
        },
        "id": "oxV4jM32eGSQ",
        "outputId": "cfb4f122-93d0-499d-a6b2-157449733665"
      },
      "outputs": [
        {
          "output_type": "stream",
          "name": "stdout",
          "text": [
            "Cloning into 'NER-mountain'...\n",
            "remote: Enumerating objects: 17, done.\u001b[K\n",
            "remote: Counting objects: 100% (17/17), done.\u001b[K\n",
            "remote: Compressing objects: 100% (15/15), done.\u001b[K\n",
            "remote: Total 17 (delta 1), reused 16 (delta 0), pack-reused 0 (from 0)\u001b[K\n",
            "Receiving objects: 100% (17/17), 17.18 KiB | 567.00 KiB/s, done.\n",
            "Resolving deltas: 100% (1/1), done.\n",
            "/content/NER-mountain\n",
            "\n",
            "Usage:   \n",
            "  pip3 <command> [options]\n",
            "\n",
            "no such option: -n\n"
          ]
        }
      ],
      "source": [
        "!git clone https://github.com/hatiff/NER-mountain\n",
        "%cd NER-mountain\n",
        "!pip install -r requirements.txt"
      ]
    },
    {
      "cell_type": "code",
      "source": [
        "!python utils/download_finetuned.py"
      ],
      "metadata": {
        "colab": {
          "base_uri": "https://localhost:8080/"
        },
        "id": "s0M8O1tBjtma",
        "outputId": "a7bb784b-01ea-4cb5-eabd-9d878a4b914a"
      },
      "execution_count": null,
      "outputs": [
        {
          "output_type": "stream",
          "name": "stdout",
          "text": [
            "Downloading...\n",
            "From (original): https://drive.google.com/uc?export=download&id=1O8sB5-xtjD9g2TFv1K0PZXR4WECqSoda\n",
            "From (redirected): https://drive.google.com/uc?export=download&id=1O8sB5-xtjD9g2TFv1K0PZXR4WECqSoda&confirm=t&uuid=6f06f27e-6a79-4f31-8475-9ba0b786cd76\n",
            "To: /content/NER-mountain/pretrained.zip\n",
            "100% 400M/400M [00:14<00:00, 28.1MB/s]\n"
          ]
        }
      ]
    },
    {
      "cell_type": "code",
      "source": [
        "!python inference.py --sentence \"Hello, can i see Kilimanjaro from Japan?\""
      ],
      "metadata": {
        "colab": {
          "base_uri": "https://localhost:8080/"
        },
        "id": "w0kuxpIJnv4j",
        "outputId": "cbe17e4d-c098-4f41-fd5f-4627dab6287b"
      },
      "execution_count": null,
      "outputs": [
        {
          "output_type": "stream",
          "name": "stdout",
          "text": [
            "2024-11-11 23:51:46.818797: E external/local_xla/xla/stream_executor/cuda/cuda_fft.cc:485] Unable to register cuFFT factory: Attempting to register factory for plugin cuFFT when one has already been registered\n",
            "2024-11-11 23:51:46.842191: E external/local_xla/xla/stream_executor/cuda/cuda_dnn.cc:8454] Unable to register cuDNN factory: Attempting to register factory for plugin cuDNN when one has already been registered\n",
            "2024-11-11 23:51:46.849437: E external/local_xla/xla/stream_executor/cuda/cuda_blas.cc:1452] Unable to register cuBLAS factory: Attempting to register factory for plugin cuBLAS when one has already been registered\n",
            "2024-11-11 23:51:46.866307: I tensorflow/core/platform/cpu_feature_guard.cc:210] This TensorFlow binary is optimized to use available CPU instructions in performance-critical operations.\n",
            "To enable the following instructions: AVX2 FMA, in other operations, rebuild TensorFlow with the appropriate compiler flags.\n",
            "2024-11-11 23:51:48.251740: W tensorflow/compiler/tf2tensorrt/utils/py_utils.cc:38] TF-TRT Warning: Could not find TensorRT\n",
            "Some weights of BertForTokenClassification were not initialized from the model checkpoint at bert-base-cased and are newly initialized: ['classifier.bias', 'classifier.weight']\n",
            "You should probably TRAIN this model on a down-stream task to be able to use it for predictions and inference.\n",
            "{'entity': 'B-MOU', 'score': 0.9673917293548584, 'word': 'Kilimanjaro', 'start': 17, 'end': 28}\n",
            "{'entity': 'B-LOC', 'score': 0.9974217414855957, 'word': 'Japan', 'start': 34, 'end': 39}\n"
          ]
        }
      ]
    },
    {
      "cell_type": "code",
      "source": [
        "!rm -r finetuned_model"
      ],
      "metadata": {
        "id": "Ak9-kY37ofIR"
      },
      "execution_count": null,
      "outputs": []
    }
  ]
}